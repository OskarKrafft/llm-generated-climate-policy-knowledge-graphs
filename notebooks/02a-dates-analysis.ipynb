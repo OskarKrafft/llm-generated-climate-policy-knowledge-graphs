{
 "cells": [
  {
   "cell_type": "code",
   "execution_count": 12,
   "metadata": {},
   "outputs": [],
   "source": [
    "# Import libraries\n",
    "import os\n",
    "import sys\n",
    "import pandas as pd\n",
    "import matplotlib.pyplot as plt\n",
    "import seaborn as sns\n",
    "import numpy as np\n",
    "from collections import Counter, defaultdict\n",
    "from rdflib import Graph, Namespace, URIRef\n",
    "from rdflib.namespace import RDF, RDFS\n",
    "import random\n",
    "from IPython.display import display, HTML\n",
    "import re\n",
    "\n",
    "# Add the project root to Python's path\n",
    "project_root = os.path.abspath(os.path.join(os.getcwd(), \"..\"))\n",
    "sys.path.append(project_root)\n",
    "\n",
    "# Define paths\n",
    "turtle_dir = os.path.join(project_root, \"polianna-processed\", \"turtle\")\n",
    "raw_text_dir = os.path.join(project_root, \"polianna-dataset\", \"data\", \"03a_processed_to_jsonl\")\n",
    "\n",
    "# Define namespaces\n",
    "POLIANN = Namespace(\"https://polianna-kg.org/Ontology#\")\n",
    "ELI     = Namespace(\"http://data.europa.eu/eli/ontology#\")\n",
    "SKOS    = Namespace(\"http://www.w3.org/2004/02/skos/core#\")"
   ]
  },
  {
   "cell_type": "code",
   "execution_count": 14,
   "metadata": {},
   "outputs": [],
   "source": [
    "def load_all_turtle_files(directory):\n",
    "    \"\"\"Load all .ttl files from a directory and return a dictionary of graphs.\"\"\"\n",
    "    graphs = {}\n",
    "    file_count = 0\n",
    "    \n",
    "    for filename in os.listdir(directory):\n",
    "        if filename.endswith(\".ttl\"):\n",
    "            file_path = os.path.join(directory, filename)\n",
    "            article_id = filename[:-4]  # Remove .ttl extension\n",
    "            \n",
    "            g = Graph()\n",
    "            g.parse(file_path, format=\"turtle\")\n",
    "            graphs[article_id] = g\n",
    "            file_count += 1\n",
    "            \n",
    "            if file_count % 100 == 0:\n",
    "                print(f\"Loaded {file_count} files...\")\n",
    "    \n",
    "    print(f\"Loaded {file_count} Turtle files in total.\")\n",
    "    return graphs"
   ]
  },
  {
   "cell_type": "code",
   "execution_count": 15,
   "metadata": {},
   "outputs": [],
   "source": [
    "def analyze_time_entities(graphs):\n",
    "    \"\"\"Analyze time entities with structured date information.\"\"\"\n",
    "    \n",
    "    compliance_dates = []\n",
    "    in_effect_dates = []\n",
    "    unparseable_compliance = []\n",
    "    unparseable_effect = []\n",
    "    \n",
    "    for article_id, g in graphs.items():\n",
    "        # Query compliance dates\n",
    "        compliance_query = \"\"\"\n",
    "        PREFIX poliann: <https://polianna-kg.org/Ontology#>\n",
    "        SELECT ?text ?date WHERE {\n",
    "            ?time a poliann:Time_Compliance ;\n",
    "                  poliann:annotatedText ?text .\n",
    "            OPTIONAL { ?time poliann:Compliance_date ?date }\n",
    "        }\n",
    "        \"\"\"\n",
    "        \n",
    "        for row in g.query(compliance_query):\n",
    "            text, date = row\n",
    "            if date:\n",
    "                compliance_dates.append((article_id, str(text), str(date)))\n",
    "            else:\n",
    "                unparseable_compliance.append((article_id, str(text)))\n",
    "        \n",
    "        # Query in-effect dates\n",
    "        effect_query = \"\"\"\n",
    "        PREFIX poliann: <https://polianna-kg.org/Ontology#>\n",
    "        SELECT ?text ?date WHERE {\n",
    "            ?time a poliann:Time_InEffect ;\n",
    "                  poliann:annotatedText ?text .\n",
    "            OPTIONAL { ?time poliann:In_effect_date ?date }\n",
    "        }\n",
    "        \"\"\"\n",
    "        \n",
    "        for row in g.query(effect_query):\n",
    "            text, date = row\n",
    "            if date:\n",
    "                in_effect_dates.append((article_id, str(text), str(date)))\n",
    "            else:\n",
    "                unparseable_effect.append((article_id, str(text)))\n",
    "    \n",
    "    # Create DataFrames\n",
    "    compliance_df = pd.DataFrame(compliance_dates, columns=['article_id', 'text', 'date'])\n",
    "    effect_df = pd.DataFrame(in_effect_dates, columns=['article_id', 'text', 'date'])\n",
    "    \n",
    "    # Calculate statistics\n",
    "    parseable_compliance_pct = len(compliance_dates) / (len(compliance_dates) + len(unparseable_compliance)) * 100\n",
    "    parseable_effect_pct = len(in_effect_dates) / (len(in_effect_dates) + len(unparseable_effect)) * 100\n",
    "    \n",
    "    print(f\"Compliance dates: {len(compliance_dates)} parseable ({parseable_compliance_pct:.1f}%), {len(unparseable_compliance)} unparseable\")\n",
    "    print(f\"In-effect dates: {len(in_effect_dates)} parseable ({parseable_effect_pct:.1f}%), {len(unparseable_effect)} unparseable\")\n",
    "    \n",
    "    return {\n",
    "        'compliance_dates': compliance_df,\n",
    "        'effect_dates': effect_df,\n",
    "        'unparseable_compliance': pd.DataFrame(unparseable_compliance, columns=['article_id', 'text']),\n",
    "        'unparseable_effect': pd.DataFrame(unparseable_effect, columns=['article_id', 'text'])\n",
    "    }\n",
    "\n",
    "def analyze_date_patterns(date_analysis):\n",
    "    \"\"\"Analyze patterns in date expressions.\"\"\"\n",
    "    \n",
    "    # Create pattern columns\n",
    "    date_analysis['unparseable_compliance']['pattern'] = date_analysis['unparseable_compliance']['text'].apply(categorize_date_pattern)\n",
    "    date_analysis['unparseable_effect']['pattern'] = date_analysis['unparseable_effect']['text'].apply(categorize_date_pattern)\n",
    "    \n",
    "    # Count patterns\n",
    "    compliance_patterns = date_analysis['unparseable_compliance']['pattern'].value_counts()\n",
    "    effect_patterns = date_analysis['unparseable_effect']['pattern'].value_counts()\n",
    "    \n",
    "    print(\"Common unparseable compliance date patterns:\")\n",
    "    display(compliance_patterns.head(10))\n",
    "    \n",
    "    print(\"\\nCommon unparseable in-effect date patterns:\")\n",
    "    display(effect_patterns.head(10))\n",
    "    \n",
    "    # Plot pattern distributions\n",
    "    fig, (ax1, ax2) = plt.subplots(2, 1, figsize=(12, 10))\n",
    "    \n",
    "    compliance_patterns.head(8).plot(kind='barh', ax=ax1)\n",
    "    ax1.set_title('Common Compliance Date Patterns')\n",
    "    ax1.set_xlabel('Count')\n",
    "    \n",
    "    effect_patterns.head(8).plot(kind='barh', ax=ax2)\n",
    "    ax2.set_title('Common In-Effect Date Patterns')\n",
    "    ax2.set_xlabel('Count')\n",
    "    \n",
    "    plt.tight_layout()\n",
    "    plt.show()\n",
    "    \n",
    "    return {\n",
    "        'compliance_patterns': compliance_patterns,\n",
    "        'effect_patterns': effect_patterns\n",
    "    }\n",
    "\n",
    "def categorize_date_pattern(text):\n",
    "    \"\"\"Categorize date expressions into patterns.\"\"\"\n",
    "    text = text.lower()\n",
    "    \n",
    "    if \"following\" in text and \"publication\" in text:\n",
    "        return \"after_publication\"\n",
    "    elif \"within\" in text and (\"month\" in text or \"year\" in text):\n",
    "        return \"within_timeframe\"\n",
    "    elif \"every\" in text and (\"year\" in text or \"month\" in text):\n",
    "        return \"recurring\"\n",
    "    elif \"from\" in text and \"to\" in text:\n",
    "        return \"date_range\"\n",
    "    elif \"not later than\" in text or \"no later than\" in text:\n",
    "        return \"deadline\"\n",
    "    elif \"by\" in text and re.search(r'\\d{4}', text):\n",
    "        return \"by_year\"\n",
    "    elif \"after\" in text:\n",
    "        return \"after_event\"\n",
    "    elif \"before\" in text:\n",
    "        return \"before_event\"\n",
    "    else:\n",
    "        return \"other\""
   ]
  },
  {
   "cell_type": "code",
   "execution_count": 16,
   "metadata": {},
   "outputs": [
    {
     "name": "stdout",
     "output_type": "stream",
     "text": [
      "Loaded 100 files...\n",
      "Loaded 200 files...\n",
      "Loaded 300 files...\n",
      "Loaded 400 files...\n",
      "Loaded 412 Turtle files in total.\n",
      "Loaded 412 graph files\n",
      "Compliance dates: 237 parseable (76.5%), 73 unparseable\n",
      "In-effect dates: 66 parseable (62.3%), 40 unparseable\n"
     ]
    },
    {
     "data": {
      "image/png": "[encoded data removed]",
      "text/plain": [
       "<Figure size 1500x600 with 2 Axes>"
      ]
     },
     "metadata": {},
     "output_type": "display_data"
    },
    {
     "name": "stdout",
     "output_type": "stream",
     "text": [
      "Common unparseable compliance date patterns:\n"
     ]
    },
    {
     "data": {
      "text/plain": [
       "pattern\n",
       "other               38\n",
       "within_timeframe    14\n",
       "recurring            8\n",
       "deadline             4\n",
       "after_event          4\n",
       "before_event         4\n",
       "by_year              1\n",
       "Name: count, dtype: int64"
      ]
     },
     "metadata": {},
     "output_type": "display_data"
    },
    {
     "name": "stdout",
     "output_type": "stream",
     "text": [
      "\n",
      "Common unparseable in-effect date patterns:\n"
     ]
    },
    {
     "data": {
      "text/plain": [
       "pattern\n",
       "after_publication    26\n",
       "other                13\n",
       "within_timeframe      1\n",
       "Name: count, dtype: int64"
      ]
     },
     "metadata": {},
     "output_type": "display_data"
    },
    {
     "data": {
      "image/png": "[encoded data removed]",
      "text/plain": [
       "<Figure size 1200x1000 with 2 Axes>"
      ]
     },
     "metadata": {},
     "output_type": "display_data"
    },
    {
     "name": "stdout",
     "output_type": "stream",
     "text": [
      "\n",
      "Sample of parseable compliance dates:\n"
     ]
    },
    {
     "data": {
      "application/vnd.microsoft.datawrangler.viewer.v0+json": {
       "columns": [
        {
         "name": "index",
         "rawType": "int64",
         "type": "integer"
        },
        {
         "name": "article_id",
         "rawType": "object",
         "type": "string"
        },
        {
         "name": "text",
         "rawType": "object",
         "type": "string"
        },
        {
         "name": "date",
         "rawType": "object",
         "type": "string"
        }
       ],
       "conversionMethod": "pd.DataFrame",
       "ref": "b4162e56-0179-429c-8d3b-dfdd4a919bf9",
       "rows": [
        [
         "0",
         "EU_32012L0027_Title_0_Chapter_2_Section_0_Article_09",
         "31 december 2016",
         "2016-12-31"
        ],
        [
         "1",
         "EU_32009L0028_Title_0_Chapter_0_Section_0_Article_27",
         "5 december 2010",
         "2010-12-05"
        ],
        [
         "2",
         "EU_32018R1999_Title_0_Chapter_6_Section_3_Article_39",
         "1 january 2021",
         "2021-01-01"
        ],
        [
         "3",
         "EU_32012L0027_Title_0_Chapter_4_Section_0_Article_16",
         "31 december 2014",
         "2014-12-31"
        ],
        [
         "4",
         "EU_32019L0944_Title_0_Chapter_2_Section_0_Article_08",
         "2030",
         "2030-01-01"
        ],
        [
         "5",
         "EU_32009L0028_Title_0_Chapter_0_Section_0_Article_18",
         "31 december 2012",
         "2012-12-31"
        ],
        [
         "6",
         "EU_32009L0028_Title_0_Chapter_0_Section_0_Article_19",
         "31 december 2012",
         "2012-12-31"
        ],
        [
         "7",
         "EU_32009L0028_Title_0_Chapter_0_Section_0_Article_19",
         "31 march 2010",
         "2010-03-31"
        ],
        [
         "8",
         "EU_32018R1999_Title_0_Chapter_3_Section_0_Article_15",
         "2050",
         "2050-01-01"
        ],
        [
         "9",
         "EU_32018R1999_Title_0_Chapter_3_Section_0_Article_15",
         "1 april 2019",
         "2019-04-01"
        ]
       ],
       "shape": {
        "columns": 3,
        "rows": 10
       }
      },
      "text/html": [
       "<div>\n",
       "<style scoped>\n",
       "    .dataframe tbody tr th:only-of-type {\n",
       "        vertical-align: middle;\n",
       "    }\n",
       "\n",
       "    .dataframe tbody tr th {\n",
       "        vertical-align: top;\n",
       "    }\n",
       "\n",
       "    .dataframe thead th {\n",
       "        text-align: right;\n",
       "    }\n",
       "</style>\n",
       "<table border=\"1\" class=\"dataframe\">\n",
       "  <thead>\n",
       "    <tr style=\"text-align: right;\">\n",
       "      <th></th>\n",
       "      <th>article_id</th>\n",
       "      <th>text</th>\n",
       "      <th>date</th>\n",
       "    </tr>\n",
       "  </thead>\n",
       "  <tbody>\n",
       "    <tr>\n",
       "      <th>0</th>\n",
       "      <td>EU_32012L0027_Title_0_Chapter_2_Section_0_Arti...</td>\n",
       "      <td>31 december 2016</td>\n",
       "      <td>2016-12-31</td>\n",
       "    </tr>\n",
       "    <tr>\n",
       "      <th>1</th>\n",
       "      <td>EU_32009L0028_Title_0_Chapter_0_Section_0_Arti...</td>\n",
       "      <td>5 december 2010</td>\n",
       "      <td>2010-12-05</td>\n",
       "    </tr>\n",
       "    <tr>\n",
       "      <th>2</th>\n",
       "      <td>EU_32018R1999_Title_0_Chapter_6_Section_3_Arti...</td>\n",
       "      <td>1 january 2021</td>\n",
       "      <td>2021-01-01</td>\n",
       "    </tr>\n",
       "    <tr>\n",
       "      <th>3</th>\n",
       "      <td>EU_32012L0027_Title_0_Chapter_4_Section_0_Arti...</td>\n",
       "      <td>31 december 2014</td>\n",
       "      <td>2014-12-31</td>\n",
       "    </tr>\n",
       "    <tr>\n",
       "      <th>4</th>\n",
       "      <td>EU_32019L0944_Title_0_Chapter_2_Section_0_Arti...</td>\n",
       "      <td>2030</td>\n",
       "      <td>2030-01-01</td>\n",
       "    </tr>\n",
       "    <tr>\n",
       "      <th>5</th>\n",
       "      <td>EU_32009L0028_Title_0_Chapter_0_Section_0_Arti...</td>\n",
       "      <td>31 december 2012</td>\n",
       "      <td>2012-12-31</td>\n",
       "    </tr>\n",
       "    <tr>\n",
       "      <th>6</th>\n",
       "      <td>EU_32009L0028_Title_0_Chapter_0_Section_0_Arti...</td>\n",
       "      <td>31 december 2012</td>\n",
       "      <td>2012-12-31</td>\n",
       "    </tr>\n",
       "    <tr>\n",
       "      <th>7</th>\n",
       "      <td>EU_32009L0028_Title_0_Chapter_0_Section_0_Arti...</td>\n",
       "      <td>31 march 2010</td>\n",
       "      <td>2010-03-31</td>\n",
       "    </tr>\n",
       "    <tr>\n",
       "      <th>8</th>\n",
       "      <td>EU_32018R1999_Title_0_Chapter_3_Section_0_Arti...</td>\n",
       "      <td>2050</td>\n",
       "      <td>2050-01-01</td>\n",
       "    </tr>\n",
       "    <tr>\n",
       "      <th>9</th>\n",
       "      <td>EU_32018R1999_Title_0_Chapter_3_Section_0_Arti...</td>\n",
       "      <td>1 april 2019</td>\n",
       "      <td>2019-04-01</td>\n",
       "    </tr>\n",
       "  </tbody>\n",
       "</table>\n",
       "</div>"
      ],
      "text/plain": [
       "                                          article_id              text  \\\n",
       "0  EU_32012L0027_Title_0_Chapter_2_Section_0_Arti...  31 december 2016   \n",
       "1  EU_32009L0028_Title_0_Chapter_0_Section_0_Arti...   5 december 2010   \n",
       "2  EU_32018R1999_Title_0_Chapter_6_Section_3_Arti...    1 january 2021   \n",
       "3  EU_32012L0027_Title_0_Chapter_4_Section_0_Arti...  31 december 2014   \n",
       "4  EU_32019L0944_Title_0_Chapter_2_Section_0_Arti...              2030   \n",
       "5  EU_32009L0028_Title_0_Chapter_0_Section_0_Arti...  31 december 2012   \n",
       "6  EU_32009L0028_Title_0_Chapter_0_Section_0_Arti...  31 december 2012   \n",
       "7  EU_32009L0028_Title_0_Chapter_0_Section_0_Arti...     31 march 2010   \n",
       "8  EU_32018R1999_Title_0_Chapter_3_Section_0_Arti...              2050   \n",
       "9  EU_32018R1999_Title_0_Chapter_3_Section_0_Arti...      1 april 2019   \n",
       "\n",
       "         date  \n",
       "0  2016-12-31  \n",
       "1  2010-12-05  \n",
       "2  2021-01-01  \n",
       "3  2014-12-31  \n",
       "4  2030-01-01  \n",
       "5  2012-12-31  \n",
       "6  2012-12-31  \n",
       "7  2010-03-31  \n",
       "8  2050-01-01  \n",
       "9  2019-04-01  "
      ]
     },
     "metadata": {},
     "output_type": "display_data"
    },
    {
     "name": "stdout",
     "output_type": "stream",
     "text": [
      "\n",
      "Sample of parseable in-effect dates:\n"
     ]
    },
    {
     "data": {
      "application/vnd.microsoft.datawrangler.viewer.v0+json": {
       "columns": [
        {
         "name": "index",
         "rawType": "int64",
         "type": "integer"
        },
        {
         "name": "article_id",
         "rawType": "object",
         "type": "string"
        },
        {
         "name": "text",
         "rawType": "object",
         "type": "string"
        },
        {
         "name": "date",
         "rawType": "object",
         "type": "string"
        }
       ],
       "conversionMethod": "pd.DataFrame",
       "ref": "0898944b-f2c0-4b2d-b81e-930d8eac93ad",
       "rows": [
        [
         "0",
         "EU_32019R0631_Title_0_Chapter_0_Section_0_Article_18",
         "from 1 january 2020",
         "2020-01-01"
        ],
        [
         "1",
         "EU_32009L0028_Title_0_Chapter_0_Section_0_Article_26",
         "1 april 2010",
         "2010-04-01"
        ],
        [
         "2",
         "EU_32009L0028_Title_0_Chapter_0_Section_0_Article_26",
         "1 april 2010",
         "2010-04-01"
        ],
        [
         "3",
         "EU_32009L0028_Title_0_Chapter_0_Section_0_Article_26",
         "1 january 2012",
         "2012-01-01"
        ],
        [
         "4",
         "EU_32019R0631_Title_0_Chapter_0_Section_0_Article_19",
         "1 january 2020",
         "2020-01-01"
        ],
        [
         "5",
         "EU_32006L0032_Title_0_Chapter_3_Section_0_Article_12",
         "16 december 2002",
         "2002-12-16"
        ],
        [
         "6",
         "EU_32018R1999_Title_0_Chapter_7_Section_3_Article_59",
         "1 january 2021",
         "2021-01-01"
        ],
        [
         "7",
         "EU_32018R1999_Title_0_Chapter_4_Section_2_Article_26",
         "2023",
         "2023-01-01"
        ],
        [
         "8",
         "EU_32018R1999_Title_0_Chapter_4_Section_2_Article_27",
         "31 december 2020",
         "2020-12-31"
        ],
        [
         "9",
         "EU_32018R1999_Title_0_Chapter_4_Section_2_Article_27",
         "31 december 2020",
         "2020-12-31"
        ]
       ],
       "shape": {
        "columns": 3,
        "rows": 10
       }
      },
      "text/html": [
       "<div>\n",
       "<style scoped>\n",
       "    .dataframe tbody tr th:only-of-type {\n",
       "        vertical-align: middle;\n",
       "    }\n",
       "\n",
       "    .dataframe tbody tr th {\n",
       "        vertical-align: top;\n",
       "    }\n",
       "\n",
       "    .dataframe thead th {\n",
       "        text-align: right;\n",
       "    }\n",
       "</style>\n",
       "<table border=\"1\" class=\"dataframe\">\n",
       "  <thead>\n",
       "    <tr style=\"text-align: right;\">\n",
       "      <th></th>\n",
       "      <th>article_id</th>\n",
       "      <th>text</th>\n",
       "      <th>date</th>\n",
       "    </tr>\n",
       "  </thead>\n",
       "  <tbody>\n",
       "    <tr>\n",
       "      <th>0</th>\n",
       "      <td>EU_32019R0631_Title_0_Chapter_0_Section_0_Arti...</td>\n",
       "      <td>from 1 january 2020</td>\n",
       "      <td>2020-01-01</td>\n",
       "    </tr>\n",
       "    <tr>\n",
       "      <th>1</th>\n",
       "      <td>EU_32009L0028_Title_0_Chapter_0_Section_0_Arti...</td>\n",
       "      <td>1 april 2010</td>\n",
       "      <td>2010-04-01</td>\n",
       "    </tr>\n",
       "    <tr>\n",
       "      <th>2</th>\n",
       "      <td>EU_32009L0028_Title_0_Chapter_0_Section_0_Arti...</td>\n",
       "      <td>1 april 2010</td>\n",
       "      <td>2010-04-01</td>\n",
       "    </tr>\n",
       "    <tr>\n",
       "      <th>3</th>\n",
       "      <td>EU_32009L0028_Title_0_Chapter_0_Section_0_Arti...</td>\n",
       "      <td>1 january 2012</td>\n",
       "      <td>2012-01-01</td>\n",
       "    </tr>\n",
       "    <tr>\n",
       "      <th>4</th>\n",
       "      <td>EU_32019R0631_Title_0_Chapter_0_Section_0_Arti...</td>\n",
       "      <td>1 january 2020</td>\n",
       "      <td>2020-01-01</td>\n",
       "    </tr>\n",
       "    <tr>\n",
       "      <th>5</th>\n",
       "      <td>EU_32006L0032_Title_0_Chapter_3_Section_0_Arti...</td>\n",
       "      <td>16 december 2002</td>\n",
       "      <td>2002-12-16</td>\n",
       "    </tr>\n",
       "    <tr>\n",
       "      <th>6</th>\n",
       "      <td>EU_32018R1999_Title_0_Chapter_7_Section_3_Arti...</td>\n",
       "      <td>1 january 2021</td>\n",
       "      <td>2021-01-01</td>\n",
       "    </tr>\n",
       "    <tr>\n",
       "      <th>7</th>\n",
       "      <td>EU_32018R1999_Title_0_Chapter_4_Section_2_Arti...</td>\n",
       "      <td>2023</td>\n",
       "      <td>2023-01-01</td>\n",
       "    </tr>\n",
       "    <tr>\n",
       "      <th>8</th>\n",
       "      <td>EU_32018R1999_Title_0_Chapter_4_Section_2_Arti...</td>\n",
       "      <td>31 december 2020</td>\n",
       "      <td>2020-12-31</td>\n",
       "    </tr>\n",
       "    <tr>\n",
       "      <th>9</th>\n",
       "      <td>EU_32018R1999_Title_0_Chapter_4_Section_2_Arti...</td>\n",
       "      <td>31 december 2020</td>\n",
       "      <td>2020-12-31</td>\n",
       "    </tr>\n",
       "  </tbody>\n",
       "</table>\n",
       "</div>"
      ],
      "text/plain": [
       "                                          article_id                 text  \\\n",
       "0  EU_32019R0631_Title_0_Chapter_0_Section_0_Arti...  from 1 january 2020   \n",
       "1  EU_32009L0028_Title_0_Chapter_0_Section_0_Arti...         1 april 2010   \n",
       "2  EU_32009L0028_Title_0_Chapter_0_Section_0_Arti...         1 april 2010   \n",
       "3  EU_32009L0028_Title_0_Chapter_0_Section_0_Arti...       1 january 2012   \n",
       "4  EU_32019R0631_Title_0_Chapter_0_Section_0_Arti...       1 january 2020   \n",
       "5  EU_32006L0032_Title_0_Chapter_3_Section_0_Arti...     16 december 2002   \n",
       "6  EU_32018R1999_Title_0_Chapter_7_Section_3_Arti...       1 january 2021   \n",
       "7  EU_32018R1999_Title_0_Chapter_4_Section_2_Arti...                 2023   \n",
       "8  EU_32018R1999_Title_0_Chapter_4_Section_2_Arti...     31 december 2020   \n",
       "9  EU_32018R1999_Title_0_Chapter_4_Section_2_Arti...     31 december 2020   \n",
       "\n",
       "         date  \n",
       "0  2020-01-01  \n",
       "1  2010-04-01  \n",
       "2  2010-04-01  \n",
       "3  2012-01-01  \n",
       "4  2020-01-01  \n",
       "5  2002-12-16  \n",
       "6  2021-01-01  \n",
       "7  2023-01-01  \n",
       "8  2020-12-31  \n",
       "9  2020-12-31  "
      ]
     },
     "metadata": {},
     "output_type": "display_data"
    }
   ],
   "source": [
    "# 1. Load the graph data (assuming you've already defined load_all_turtle_files)\n",
    "article_graphs = load_all_turtle_files(turtle_dir)\n",
    "print(f\"Loaded {len(article_graphs)} graph files\")\n",
    "\n",
    "# 2. Run the time entity analysis\n",
    "time_analysis = analyze_time_entities(article_graphs)\n",
    "\n",
    "# 3. Visualize date distributions if you have parseable dates\n",
    "if len(time_analysis['compliance_dates']) > 0 or len(time_analysis['effect_dates']) > 0:\n",
    "    # Create visualizations for dates\n",
    "    plt.figure(figsize=(15, 6))\n",
    "    \n",
    "    # Plot distribution of years for compliance dates\n",
    "    if len(time_analysis['compliance_dates']) > 0:\n",
    "        plt.subplot(1, 2, 1)\n",
    "        compliance_years = pd.to_datetime(time_analysis['compliance_dates']['date']).dt.year\n",
    "        sns.histplot(compliance_years, kde=True, bins=15)\n",
    "        plt.title('Compliance Dates by Year')\n",
    "        plt.xlabel('Year')\n",
    "    \n",
    "    # Plot distribution of years for in-effect dates\n",
    "    if len(time_analysis['effect_dates']) > 0:\n",
    "        plt.subplot(1, 2, 2)\n",
    "        effect_years = pd.to_datetime(time_analysis['effect_dates']['date']).dt.year\n",
    "        sns.histplot(effect_years, kde=True, bins=15)\n",
    "        plt.title('In-Effect Dates by Year')\n",
    "        plt.xlabel('Year')\n",
    "    \n",
    "    plt.tight_layout()\n",
    "    plt.show()\n",
    "\n",
    "# 4. Analyze patterns in unparseable dates\n",
    "pattern_analysis = analyze_date_patterns(time_analysis)\n",
    "\n",
    "# 5. Display some of the actual date text examples\n",
    "print(\"\\nSample of parseable compliance dates:\")\n",
    "if len(time_analysis['compliance_dates']) > 0:\n",
    "    display(time_analysis['compliance_dates'].head(10))\n",
    "else:\n",
    "    print(\"No parseable compliance dates found.\")\n",
    "\n",
    "print(\"\\nSample of parseable in-effect dates:\")\n",
    "if len(time_analysis['effect_dates']) > 0:\n",
    "    display(time_analysis['effect_dates'].head(10))\n",
    "else:\n",
    "    print(\"No parseable in-effect dates found.\")"
   ]
  }
 ],
 "metadata": {
  "kernelspec": {
   "display_name": "POLIANNA",
   "language": "python",
   "name": "python3"
  },
  "language_info": {
   "codemirror_mode": {
    "name": "ipython",
    "version": 3
   },
   "file_extension": ".py",
   "mimetype": "text/x-python",
   "name": "python",
   "nbconvert_exporter": "python",
   "pygments_lexer": "ipython3",
   "version": "3.9.21"
  }
 },
 "nbformat": 4,
 "nbformat_minor": 2
}
